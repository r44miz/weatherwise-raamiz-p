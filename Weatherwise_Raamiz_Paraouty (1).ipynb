{
  "nbformat": 4,
  "nbformat_minor": 0,
  "metadata": {
    "colab": {
      "provenance": []
    },
    "kernelspec": {
      "name": "python3",
      "display_name": "Python 3"
    },
    "language_info": {
      "name": "python"
    }
  },
  "cells": [
    {
      "cell_type": "code",
      "source": [
        "pip install PyInputPlus"
      ],
      "metadata": {
        "id": "RXZIHNypUsQW"
      },
      "execution_count": null,
      "outputs": []
    },
    {
      "cell_type": "code",
      "execution_count": null,
      "metadata": {
        "id": "lvutc88jUk_W"
      },
      "outputs": [],
      "source": [
        "# 📦 Imports\n",
        "import requests\n",
        "import json\n",
        "import matplotlib.pyplot as plt\n",
        "import seaborn as sns\n",
        "import pyinputplus as pyip\n",
        "import re\n",
        "\n",
        "# 🔧 Style\n",
        "sns.set(style=\"whitegrid\")\n",
        "plt.rcParams[\"figure.figsize\"] = (8, 4)\n"
      ]
    },
    {
      "cell_type": "code",
      "source": [
        "def get_weather_data(location, forecast_days=3):\n",
        "    \"\"\"\n",
        "    Retrieve weather data from wttr.in for a specified location.\n",
        "\n",
        "    Args:\n",
        "        location (str): City or location name\n",
        "        forecast_days (int): Number of forecast days (1–5)\n",
        "\n",
        "    Returns:\n",
        "        dict: Weather data including current conditions and forecast\n",
        "    \"\"\"\n",
        "    if not location or not isinstance(location, str):\n",
        "        print(\"❌ Invalid location. Please enter a valid city.\")\n",
        "        return None\n",
        "\n",
        "    if not (1 <= forecast_days <= 5):\n",
        "        print(\"⚠️ Forecast days must be between 1 and 5. Defaulting to 3.\")\n",
        "        forecast_days = 3\n",
        "\n",
        "    try:\n",
        "        url = f\"https://wttr.in/{location}?format=j1\"\n",
        "        response = requests.get(url, timeout=10)\n",
        "        response.raise_for_status()\n",
        "        data = response.json()\n",
        "\n",
        "        if \"current_condition\" not in data or \"weather\" not in data:\n",
        "            print(\"⚠️ Incomplete weather data received.\")\n",
        "            return None\n",
        "\n",
        "        data[\"weather\"] = data[\"weather\"][:forecast_days]\n",
        "        return data\n",
        "\n",
        "    except requests.exceptions.RequestException as req_err:\n",
        "        print(f\"🔌 Network error: {req_err}\")\n",
        "    except ValueError:\n",
        "        print(\"❌ Failed to decode JSON.\")\n",
        "    except Exception as e:\n",
        "        print(f\"⚠️ Unexpected error: {e}\")\n",
        "    return None\n"
      ],
      "metadata": {
        "id": "zDl8ozJLU17Y"
      },
      "execution_count": null,
      "outputs": []
    },
    {
      "cell_type": "code",
      "source": [
        "def create_temperature_visualisation(weather_data, output_type='display'):\n",
        "    try:\n",
        "        if not weather_data or 'weather' not in weather_data:\n",
        "            raise ValueError(\"Invalid or missing weather data.\")\n",
        "\n",
        "        dates = [day['date'] for day in weather_data['weather']]\n",
        "        max_temps = [int(day['maxtempC']) for day in weather_data['weather']]\n",
        "        min_temps = [int(day['mintempC']) for day in weather_data['weather']]\n",
        "\n",
        "        fig, ax = plt.subplots(figsize=(8, 4))\n",
        "        ax.plot(dates, max_temps, label='Max Temp', marker='o', linewidth=2, color='#FF5733')\n",
        "        ax.plot(dates, min_temps, label='Min Temp', marker='o', linewidth=2, color='#337DFF')\n",
        "\n",
        "        ax.set_title(\"🌡️ Daily Max & Min Temperature Forecast\", fontsize=14, weight='bold')\n",
        "        ax.set_xlabel(\"Date\", fontsize=12)\n",
        "        ax.set_ylabel(\"Temperature (°C)\", fontsize=12)\n",
        "        ax.grid(True, linestyle='--', alpha=0.7)\n",
        "        ax.legend(loc='upper right', fontsize=10)\n",
        "        ax.tick_params(axis='x', rotation=15)\n",
        "\n",
        "        for i in range(len(dates)):\n",
        "            ax.text(dates[i], max_temps[i] + 0.5, f'{max_temps[i]}°', ha='center', fontsize=8, color='#FF5733')\n",
        "            ax.text(dates[i], min_temps[i] - 2.5, f'{min_temps[i]}°', ha='center', fontsize=8, color='#337DFF')\n",
        "\n",
        "        plt.tight_layout()\n",
        "        if output_type == 'display':\n",
        "            plt.show()\n",
        "        else:\n",
        "            return fig\n",
        "\n",
        "    except Exception as e:\n",
        "        print(f\"❌ Error generating temperature visualisation: {e}\")\n",
        "\n",
        "\n",
        "def create_precipitation_visualisation(weather_data, output_type='display'):\n",
        "    try:\n",
        "        if not weather_data or 'weather' not in weather_data:\n",
        "            raise ValueError(\"Invalid or missing weather data.\")\n",
        "\n",
        "        dates = [day['date'] for day in weather_data['weather']]\n",
        "        rain_chances = [int(day['hourly'][0]['chanceofrain']) for day in weather_data['weather']]\n",
        "\n",
        "        fig, ax = plt.subplots(figsize=(8, 4))\n",
        "        bars = sns.barplot(x=dates, y=rain_chances, ax=ax, palette='Blues')\n",
        "\n",
        "        ax.set_title(\"🌧️ Daily Chance of Rain\", fontsize=14, weight='bold')\n",
        "        ax.set_xlabel(\"Date\", fontsize=12)\n",
        "        ax.set_ylabel(\"Chance of Rain (%)\", fontsize=12)\n",
        "        ax.set_ylim(0, 100)\n",
        "        ax.grid(True, linestyle='--', alpha=0.6)\n",
        "        ax.tick_params(axis='x', rotation=15)\n",
        "\n",
        "        for bar, chance in zip(bars.patches, rain_chances):\n",
        "            ax.text(bar.get_x() + bar.get_width() / 2, bar.get_height() + 1,\n",
        "                    f'{chance}%', ha='center', fontsize=9)\n",
        "\n",
        "        plt.tight_layout()\n",
        "        if output_type == 'display':\n",
        "            plt.show()\n",
        "        else:\n",
        "            return fig\n",
        "\n",
        "    except Exception as e:\n",
        "        print(f\"❌ Error generating precipitation visualisation: {e}\")\n"
      ],
      "metadata": {
        "id": "bW4cavj_Vlb3"
      },
      "execution_count": null,
      "outputs": []
    },
    {
      "cell_type": "code",
      "source": [
        "def parse_weather_question(question):\n",
        "    question = question.lower()\n",
        "    parsed = {\"location\": None, \"attribute\": \"general\"}\n",
        "\n",
        "    match = re.search(r'\\b(?:in|for)\\s+([a-zA-Z\\s]+)', question)\n",
        "    if match:\n",
        "        parsed[\"location\"] = match.group(1).strip()\n",
        "\n",
        "    if 'rain' in question:\n",
        "        parsed[\"attribute\"] = 'rain'\n",
        "    elif 'temperature' in question or 'hot' in question or 'cold' in question:\n",
        "        parsed[\"attribute\"] = 'temperature'\n",
        "\n",
        "    return parsed\n",
        "\n",
        "\n",
        "def generate_weather_response(parsed_question, weather_data):\n",
        "    location = parsed_question['location']\n",
        "    attribute = parsed_question['attribute']\n",
        "    current = weather_data['current_condition'][0]\n",
        "\n",
        "    if attribute == 'temperature':\n",
        "        return (f\"🌡️ The current temperature in {location.title()} is \"\n",
        "                f\"{current['temp_C']}°C (feels like {current['FeelsLikeC']}°C).\")\n",
        "    elif attribute == 'rain':\n",
        "        chance = weather_data['weather'][0]['hourly'][0]['chanceofrain']\n",
        "        return f\"🌧️ The chance of rain today in {location.title()} is {chance}%.\"\n",
        "    else:\n",
        "        condition = current['weatherDesc'][0]['value']\n",
        "        return (f\"📍 {location.title()} is currently {condition.lower()} \"\n",
        "                f\"with a temperature of {current['temp_C']}°C.\")\n"
      ],
      "metadata": {
        "id": "H49A5_y-VnY6"
      },
      "execution_count": null,
      "outputs": []
    },
    {
      "cell_type": "code",
      "source": [
        "def menu():\n",
        "    print(\"\\n🌤️ Welcome to WeatherWise: Your Intelligent Weather Companion! 🌤️\")\n",
        "    print(\"━━━━━━━━━━━━━━━━━━━━━━━━━━━━━━━━━━━━━━━━━━━━━━━━━━━━━━━━━━━━━━━\")\n",
        "\n",
        "    while True:\n",
        "        print(\"\\n🔸 What would you like to do today?\")\n",
        "        choice = pyip.inputMenu(\n",
        "            ['📍 Check Current Weather',\n",
        "             '🧠 Ask a Weather Question',\n",
        "             '📊 View Weather Visualisations',\n",
        "             '❌ Exit Application'],\n",
        "            numbered=True\n",
        "        )\n",
        "\n",
        "        if choice == '📍 Check Current Weather':\n",
        "            location = pyip.inputStr(\"\\n🔎 Please enter a city or location: \").strip()\n",
        "            print(\"⏳ Retrieving weather data...\")\n",
        "            data = get_weather_data(location)\n",
        "            if data:\n",
        "                print(\"\\n✅ Weather Summary for\", location.title())\n",
        "                print(\"──────────────────────────────────────────\")\n",
        "                print(generate_weather_response({\"location\": location, \"attribute\": \"general\"}, data))\n",
        "            else:\n",
        "                print(\"⚠️ Unable to retrieve weather data.\")\n",
        "\n",
        "        elif choice == '🧠 Ask a Weather Question':\n",
        "            question = pyip.inputStr(\"\\n💬 Ask your question (e.g., Will it rain in Perth?): \").strip()\n",
        "            parsed = parse_weather_question(question)\n",
        "            if parsed['location']:\n",
        "                print(f\"🤖 Analyzing your question about {parsed['location'].title()}...\")\n",
        "                data = get_weather_data(parsed['location\n"
      ],
      "metadata": {
        "id": "OMSjqDWiVpGE"
      },
      "execution_count": null,
      "outputs": []
    },
    {
      "cell_type": "code",
      "source": [
        "# Run the app\n",
        "if __name__ == \"__main__\":\n",
        "    menu()"
      ],
      "metadata": {
        "id": "EOSJ-teAVq3U"
      },
      "execution_count": null,
      "outputs": []
    },
    {
      "cell_type": "code",
      "source": [
        "# Manual test: Run this in a separate cell to test visualisation directly\n",
        "test_data = get_weather_data(\"Melbourne\")\n",
        "create_temperature_visualisation(test_data)\n",
        "create_precipitation_visualisation(test_data)\n",
        "\n",
        "# Manual test: Natural language question\n",
        "parsed = parse_weather_question(\"Will it rain in Brisbane?\")\n",
        "if parsed['location']:\n",
        "    weather = get_weather_data(parsed['location'])\n",
        "    if weather:\n",
        "        print(generate_weather_response(parsed, weather))\n"
      ],
      "metadata": {
        "colab": {
          "base_uri": "https://localhost:8080/",
          "height": 216
        },
        "collapsed": true,
        "id": "g2RhzjCsV3_r",
        "outputId": "33d8c810-63dc-4e96-9d0a-2869663b9909"
      },
      "execution_count": 3,
      "outputs": [
        {
          "output_type": "error",
          "ename": "NameError",
          "evalue": "name 'get_weather_data' is not defined",
          "traceback": [
            "\u001b[0;31m---------------------------------------------------------------------------\u001b[0m",
            "\u001b[0;31mNameError\u001b[0m                                 Traceback (most recent call last)",
            "\u001b[0;32m<ipython-input-3-abe8139d3b14>\u001b[0m in \u001b[0;36m<cell line: 0>\u001b[0;34m()\u001b[0m\n\u001b[1;32m      1\u001b[0m \u001b[0;31m# Manual test: Run this in a separate cell to test visualisation directly\u001b[0m\u001b[0;34m\u001b[0m\u001b[0;34m\u001b[0m\u001b[0m\n\u001b[0;32m----> 2\u001b[0;31m \u001b[0mtest_data\u001b[0m \u001b[0;34m=\u001b[0m \u001b[0mget_weather_data\u001b[0m\u001b[0;34m(\u001b[0m\u001b[0;34m\"Melbourne\"\u001b[0m\u001b[0;34m)\u001b[0m\u001b[0;34m\u001b[0m\u001b[0;34m\u001b[0m\u001b[0m\n\u001b[0m\u001b[1;32m      3\u001b[0m \u001b[0mcreate_temperature_visualisation\u001b[0m\u001b[0;34m(\u001b[0m\u001b[0mtest_data\u001b[0m\u001b[0;34m)\u001b[0m\u001b[0;34m\u001b[0m\u001b[0;34m\u001b[0m\u001b[0m\n\u001b[1;32m      4\u001b[0m \u001b[0mcreate_precipitation_visualisation\u001b[0m\u001b[0;34m(\u001b[0m\u001b[0mtest_data\u001b[0m\u001b[0;34m)\u001b[0m\u001b[0;34m\u001b[0m\u001b[0;34m\u001b[0m\u001b[0m\n\u001b[1;32m      5\u001b[0m \u001b[0;34m\u001b[0m\u001b[0m\n",
            "\u001b[0;31mNameError\u001b[0m: name 'get_weather_data' is not defined"
          ]
        }
      ]
    }
  ]
}